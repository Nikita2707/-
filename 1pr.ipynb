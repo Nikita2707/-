{
 "cells": [
  {
   "cell_type": "code",
   "execution_count": null,
   "id": "11a2f340-84b4-4161-9f99-6be40f8a2bdb",
   "metadata": {},
   "outputs": [],
   "source": [
    "import math \n",
    "import numpy as np \n",
    "from scipy.misc import derivative \n",
    "def f(x): \n",
    "   return 2*pow(x, 4) + 2*pow(x,3) - 4*pow(x,2) + 6*x + 5 \n",
    "eps=0.0001 \n",
    "def find_segments(): #відокремлюємо корені \n",
    "    search_range = np.arange(-10, 10, 1) \n",
    "    a = None \n",
    "    previous_x = None \n",
    "    current_x  = None \n",
    "    segments = [] \n",
    "    for x in search_range: \n",
    "        x = round(x, 4) \n",
    "        current_x = f(x) \n",
    "        if previous_x != None and previous_x * current_x < 0: \n",
    "            segments.append((a, x)) \n",
    "        a = x \n",
    "        previous_x = current_x \n",
    "    return segments \n",
    "segments = find_segments() \n",
    "for a, b in segments: \n",
    "    print(f'Found segment:  [{a}, {b}]') \n",
    "def rec(a, b, eps): #метод половинного ділення \n",
    "    while (abs(a-b) > eps): \n",
    "        if f(a)*f((a+b)/2)<0:  \n",
    "            b = (a+b)/2  \n",
    "        else:  \n",
    "            a = (a+b)/2 \n",
    "        x = (a+b)/2 \n",
    "    print ('x= ', round(x,5), '  -   Half division method') \n",
    "a=0. #початок першого відрізка \n",
    "b=1. # кінець першого відрізка \n",
    "print (f'Solution of a nonlinear equation on a segment [{a}, {b}]') \n",
    "rec (a,b,eps)"
   ]
  }
 ],
 "metadata": {
  "kernelspec": {
   "display_name": "Python 3 (ipykernel)",
   "language": "python",
   "name": "python3"
  },
  "language_info": {
   "codemirror_mode": {
    "name": "ipython",
    "version": 3
   },
   "file_extension": ".py",
   "mimetype": "text/x-python",
   "name": "python",
   "nbconvert_exporter": "python",
   "pygments_lexer": "ipython3",
   "version": "3.11.5"
  }
 },
 "nbformat": 4,
 "nbformat_minor": 5
}
